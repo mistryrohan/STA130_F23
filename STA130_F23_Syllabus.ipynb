{
 "cells": [
  {
   "cell_type": "markdown",
   "id": "c4c4d9e0",
   "metadata": {
    "slideshow": {
     "slide_type": "slide"
    }
   },
   "source": [
    "# STA130 (with Professor Schwartz): <br>Introduction to Statistical Reasoning and Data Science\n",
    "\n",
    "We observe phenomenon in the environments around us and take measurements to create data sets. Statistics seeks to quantify the reliability of conclusions we might draw from the data, while data science seeks to leverage generalizable conclusions to create competitive and efficiency advantages. But none of this matters if it can't be communicating clearly and effectively!\n",
    "\n",
    "![Dr. Julia Lowndes' version of Grolemund & Wickham's classic R4DS schematic illustrated by @Allison_Horst](https://bookdown.org/gavinmasterson/dvfc/images/environmental-data-science-r4ds-general.png)\n",
    "\n",
    "[Dr. Julia Lowndes'](https://github.com/allisonhorst/stats-illustrations/raw/master/openscapes/) version of [Grolemund & Wickham's](https://r4ds.had.co.nz/introduction.html#what-you-will-learn) classic R4DS schematic [illustrated](https://github.com/allisonhorst/stats-illustrations#hello) by [@Allison_Horst](https://twitter.com/allison_horst?lang=en)\n",
    "\n"
   ]
  },
  {
   "cell_type": "markdown",
   "id": "e3f89142",
   "metadata": {
    "slideshow": {
     "slide_type": "slide"
    }
   },
   "source": [
    "# Lectures and Tutorials\n",
    "\n",
    "- All times ET. There are no meetings during Reading Week (**RW**)\n",
    "- The Midterm (**MT**) will be scheduled in a different room than our regular classroom\n",
    "- It is expected that students will attend their assigned lecture/tutorial sections; however, accomodation exceptions may be requested at STA130@utoronto.ca \n",
    "\n",
    "|      | Lecture | Tutorial | \n",
    "|-|:-|:-|\n",
    "| | | |\n",
    "| Sec 101 | Mon 9-11AM **NF 3** | Fri 9-11AM TBA |\n",
    "| Sec 201 | Mon 1-3PM **MC 102** | Fri 1-3PM TBA |\n",
    "| | | |\n",
    "| Sept | 11, 18, 25 | 15, 22, 29 |\n",
    "| Oct | 2,  9, 16, 23, 30(**MT**) | 6, 13, 20, 27 |\n",
    "| Nov | **RW**, 13, 20, 27 | 3, **RW**, 17, 24 |\n",
    "| Dec | 4 | | \n",
    "\n",
    "- Tutorials may occasionally be transitioned into remote zoom meetings in the event that a TA is too sick to lead the meeting in person\n",
    "- **NF 3** is Northrup Frye Hall room 003: [Map 1](https://map.utoronto.ca/?id=1809#!m/494600?s/), [Map 2](https://www.classfind.com/toronto/room/NF003), [Map 3](https://lsm.utoronto.ca/ws/f?p=210:1:::::P1_BLDG,P1_ROOM:NF)\n",
    "- **MC 102** is the Mechanical Engineering Building room 102: [Map 1](https://map.utoronto.ca/?id=1809#!m/494474?s/), [Map 2](https://www.classfind.com/toronto/room/MC102), [Map 3](https://lsm.utoronto.ca/ws/f?p=210:1:::::P1_BLDG,P1_ROOM:MC,102)"
   ]
  },
  {
   "cell_type": "markdown",
   "id": "e79fd377",
   "metadata": {
    "slideshow": {
     "slide_type": "subslide"
    }
   },
   "source": [
    "# Office Hours\n",
    "\n",
    "- Get help from your TAs as soon as you need it, **especially if you're new to coding**\n",
    "\n",
    "> Tutorial services are an option, but bear in mind that the course has been rebuilt for Python so our TAs are likely to be more familiar with and aware of the details of the course materials that are specific to our version of the rebuilt course compared to an external tutoring service that's oriented towards previous versions of the course. \n",
    "    \n",
    "| Office Hours | Location | Times | TA notes|\n",
    "|-|-|-|-|\n",
    "| General/Coding Questions | **SS 621** | Tue & Wed 11AM-1PM & 5-7PM | 8TAs @ 1 hrs/TA (8hrs total) |\n",
    "| General/Coding Questions | Online | Tue & Wed 11AM-1PM & 5-7PM | 8TAs @ 1 hrs/TA (8hrs total) |\n",
    "| Coding Demonstration | Online | Tue & Wed 11AM-1PM & 5-7PM | 4TAs @ 2 hrs/TA (8hrs total) | \n",
    "| Discussion Board | Piazza | Reviewed Mon-Thur 4-6PM | 4TAs @ 2 hrs/TA (8hrs total) |\n",
    "| Professor Schwartz | [zoom](https://utoronto.zoom.us/j/2910373742) | F12-1PM | \n",
    "\n",
    "- Zoom links for online TA Office Hours will be available through Quercus\n",
    "> - TA Office Hours may sometimes be rescheduled outside of the standard hours to accomodate TA availability\n",
    "> - TA Office Hours scheduling subject to change based on student usage\n",
    "- **SS 621** is the Sidney Smith building rooms 621 and 621A: [Map 1](https://map.utoronto.ca/?id=1809#!m/494510?s/), [Map 2](https://www.classfind.com/toronto/room/SS621), [Map 3](https://www.statistics.utoronto.ca/undergraduate-student-resources/statistics-aid-centres)\n",
    "> Sidney Smith 621 and 621A also houses the [Statistics Aid Centre](https://www.statistics.utoronto.ca/undergraduate-student-resources/statistics-aid-centres); however, STA130 TAs are your best first choice for TA support as they are the TAs who will be the most familiar with the details and specific requirements of STA course and are here to provided dedicated support for STA130 students."
   ]
  },
  {
   "cell_type": "markdown",
   "id": "0dd8be30",
   "metadata": {
    "slideshow": {
     "slide_type": "skip"
    }
   },
   "source": [
    "# TA Assignments\n",
    "\n",
    "|Task | Hours | Cadence |\n",
    "|-|-|-|\n",
    "| marking | 4 (x10) | Weekly |\n",
    "| Prep | 2 (x10) | Weekly |\n",
    "| Tut | 2 (x10) | Weekly |\n",
    "| OH | 1 (x10) | Weekly |\n",
    "| Midterm | 10 | Reading Week |\n",
    "| Final | 10 | Finals Period |\n",
    "| Project | 10 | Finals Period |\n",
    "\n",
    "- If weekly tasking is taking more than 9 hours please let the head TA know\n",
    "- TA performance/utilization/contribution is evaluated for re-hiring purposes"
   ]
  },
  {
   "cell_type": "markdown",
   "id": "74e2f319",
   "metadata": {
    "slideshow": {
     "slide_type": "slide"
    }
   },
   "source": [
    "# Topics\n",
    "\n",
    "0. Quercus/Github, JupyterHub, Syllabus\n",
    "    - `Markdown`, $\\LaTeX$, **MarkUs**\n",
    "1. Data Wrangling, `R`/`Python`\n",
    "2. Populations/Samples, Parameters/Statistics\n",
    "3. Confidence Intervals\n",
    "4. Hypothesis Tests I: One-Sample Hypothesis Tests\n",
    "5. Hypothesis Tests II: Two-Sample Hypothesis Tests\n",
    "6. Course Project / Review\n",
    "7. Midterm\n",
    "8. Reading Week\n",
    "9. Regression I: Simple Linear Regression\n",
    "10. Regression II: Multivariate Regression\n",
    "11. Classification\n",
    "12. Generalizability / Ethics"
   ]
  },
  {
   "cell_type": "markdown",
   "id": "52a143e2",
   "metadata": {
    "slideshow": {
     "slide_type": "slide"
    }
   },
   "source": [
    "$$\\LARGE \\displaystyle \\int e^{-\\frac{1}{2}\\left(\\frac{X-\\mu}{\\sigma}\\right)^2} dx = \\; ?$$"
   ]
  },
  {
   "cell_type": "markdown",
   "id": "48129b8d",
   "metadata": {
    "slideshow": {
     "slide_type": "fragment"
    }
   },
   "source": [
    "$$\\Huge\n",
    "\\begin{align*}\n",
    "H_0: \\mu = {} & 0 &\\quad&\\quad& H_0: \\mu_1 = {} & \\mu_2\\\\\n",
    "H_A: \\mu \\neq {} & 0 &\\quad&\\quad& H_A: \\mu_1 \\neq {} & \\mu_2\n",
    "\\end{align*}$$"
   ]
  },
  {
   "cell_type": "code",
   "execution_count": 10,
   "id": "974518e9",
   "metadata": {
    "slideshow": {
     "slide_type": "fragment"
    }
   },
   "outputs": [
    {
     "data": {
      "text/plain": [
       "100"
      ]
     },
     "execution_count": 10,
     "metadata": {},
     "output_type": "execute_result"
    }
   ],
   "source": [
    "7+8+8+23+33+16+5"
   ]
  },
  {
   "cell_type": "markdown",
   "id": "02cf9f64",
   "metadata": {
    "slideshow": {
     "slide_type": "slide"
    }
   },
   "source": [
    "# Grades \n",
    "\n",
    "\n",
    "|Exercise| | | | |\n",
    "|-|:-|-|:-|:-|\n",
    "| Coding Homework | 1 (x10) | 8 | Best 8 of 10 | Due Thursday 5PM weekly |\n",
    "| Tutorial Activity | 1 (x10) | 8 | Best 8 of 10 | In person particiation required |\n",
    "| Tutorial Assignment | 1 (x10) | 8 | Best 8 of 10 | Due Monday 9AM weekly |\n",
    "| Midterm Exam |  | 25 | Oct 30  | Reweights to Final if missed |\n",
    "| Final Exam |  | 33 | Date TBA | Contact FAS for [exam deferrals petitions](https://www.artsci.utoronto.ca/current/faculty-registrar/petitions/deferred-exams) | \n",
    "| Project Presentation |  | 15 | Date TBA | May be rescheduled for an 5 point penalty |\n",
    "| Mentorship | 1 (x3) | 3 | Dates TBA | Due by Dec 7 | \n",
    "\n",
    "- Students enrolling late may submit one coding, one tutorial activity, and one tutorial assignment late\n",
    "- If a TA is unable to provide a weekly tutorial due to sickness they will arrange a makeup activity for the tutorial section\n",
    "- All other requests for additional accomodation or consideration must be initiated through [Accessibility Services](https://studentlife.utoronto.ca/department/accessibility-services/) (accessibility.services@utoronto.ca) or your [College Registrar](https://registrar.utoronto.ca/)\n",
    "\n",
    "> Students will generally be attending the 4 hours weekly lectures and tutorials. Beyond that, I'd expect the average student will devote an additional 6 hours or so to general studying, coding homework, and tutorial assignments. This might end up being something like 2 hours to watch recordings and review the material a little bit, 2 hours working on a coding homework, an hour or so getting some help from an office hour or piazza, and then another hour to complete the tutorial assignment. I would also expect some weeks to require a couple of hours additional effort beyond this.  For example, if you're struggling with a particular coding construct or idea you might need to devote additional time seeking out help through office hours.  And, as we get closer to the final project period, it will very likely be the case that you'll end up spending considerable time on your project for several days (although you can minimize this to some degree if you get started on your project early). \n",
    "\n",
    "> All exam questions will be written answer questions, and will many times involve code and writing code. Additionally, the final exam is necessarily comprehensive as the material in the course naturally builds on itself and depends on previously introduced topics in order to develop and extend into the more advanced concepts.  The way to do well in the course, then, is to solidly understand all the coding and concepts intoduced in the class.  This way, when new topics and ideas are presented on the exams which are variants of the topics we've covered in class, you will be familiar and comfortable with the concepts of the course and be able to generalize what you know in order to answer the exam questions. "
   ]
  },
  {
   "cell_type": "markdown",
   "id": "12327ac0",
   "metadata": {
    "slideshow": {
     "slide_type": "slide"
    }
   },
   "source": [
    "# Course Project\n",
    "\n",
    "- There are $12\\times 24 = 288$ students per section (and 576 students in the course)\n",
    "- A maximum of $68$ groups are allowed per section\n",
    "- Maximum groups size is $4$ students\n",
    "    - **Submit group members name to your TA by Oct 27 (the week before the midterm)**\n",
    "        - Completed groups of $4$ students will be finalized on *Oct 27 (the week before the midterm)*\n",
    "        - Where possible, groups of $3$ students will be finalized on *Oct 27 (the week before the midterm)*\n",
    "    - All remaining students not in a group of $4$ will be randomly assigned into groups\n",
    "    - Groups of $3$ may be randomly assigned an additional team member\n",
    "        - Groups of $2$ will very likely be randomly assigned additional team members"
   ]
  },
  {
   "cell_type": "markdown",
   "id": "5947c5ad",
   "metadata": {
    "slideshow": {
     "slide_type": "subslide"
    }
   },
   "source": [
    "\n",
    "## Project Due Dates\n",
    "\n",
    "- *Oct 27*: Project Team Groupings due (2 points)\n",
    "- *Nov 13*: Analysis Proposals due (2 points)\n",
    "- *Dec 7*: Presentation Slides due (5 points)\n",
    "- *TBA*: Project Presentations (6 points)\n",
    "\n",
    "|<img src=\"im/poster_fair.JPG\" alt=\"Drawing\" style=\"height: 500px;\"/>|<img src=\"im/poster_fair_2.jpg\" alt=\"Drawing\" style=\"height: 500px;\"/>|\n",
    "|-|-|"
   ]
  },
  {
   "cell_type": "markdown",
   "id": "9cf4429f",
   "metadata": {
    "slideshow": {
     "slide_type": "slide"
    }
   },
   "source": [
    "# JupyterHub\n"
   ]
  },
  {
   "cell_type": "markdown",
   "id": "77a5db05",
   "metadata": {
    "slideshow": {
     "slide_type": "subslide"
    }
   },
   "source": [
    "# MarkUs\n"
   ]
  },
  {
   "cell_type": "markdown",
   "id": "4d4dfe9a",
   "metadata": {},
   "source": [
    "# Python, R, and Coding\n"
   ]
  },
  {
   "cell_type": "code",
   "execution_count": 13,
   "id": "e59b4829",
   "metadata": {},
   "outputs": [
    {
     "name": "stdout",
     "output_type": "stream",
     "text": [
      "Collecting rpy2\n",
      "  Downloading rpy2-3.5.11.tar.gz (216 kB)\n",
      "\u001b[2K     \u001b[90m━━━━━━━━━━━━━━━━━━━━━━━━━━━━━━━━━━━━━━━\u001b[0m \u001b[32m216.6/216.6 kB\u001b[0m \u001b[31m2.4 MB/s\u001b[0m eta \u001b[36m0:00:00\u001b[0m00:01\u001b[0m\n",
      "\u001b[?25h  Installing build dependencies ... \u001b[?25ldone\n",
      "\u001b[?25h  Getting requirements to build wheel ... \u001b[?25ldone\n",
      "\u001b[?25h  Preparing metadata (pyproject.toml) ... \u001b[?25ldone\n",
      "\u001b[?25hCollecting tzlocal\n",
      "  Downloading tzlocal-4.3-py3-none-any.whl (20 kB)\n",
      "Requirement already satisfied: cffi>=1.10.0 in /opt/conda/lib/python3.10/site-packages (from rpy2) (1.15.1)\n",
      "Requirement already satisfied: jinja2 in /opt/conda/lib/python3.10/site-packages (from rpy2) (3.1.2)\n",
      "Requirement already satisfied: pytz in /opt/conda/lib/python3.10/site-packages (from rpy2) (2022.7.1)\n",
      "Requirement already satisfied: pycparser in /opt/conda/lib/python3.10/site-packages (from cffi>=1.10.0->rpy2) (2.21)\n",
      "Requirement already satisfied: MarkupSafe>=2.0 in /opt/conda/lib/python3.10/site-packages (from jinja2->rpy2) (2.1.2)\n",
      "Collecting pytz-deprecation-shim\n",
      "  Downloading pytz_deprecation_shim-0.1.0.post0-py2.py3-none-any.whl (15 kB)\n",
      "Collecting tzdata\n",
      "  Downloading tzdata-2023.3-py2.py3-none-any.whl (341 kB)\n",
      "\u001b[2K     \u001b[90m━━━━━━━━━━━━━━━━━━━━━━━━━━━━━━━━━━━━━━━\u001b[0m \u001b[32m341.8/341.8 kB\u001b[0m \u001b[31m3.4 MB/s\u001b[0m eta \u001b[36m0:00:00\u001b[0m00:01\u001b[0m\n",
      "\u001b[?25hBuilding wheels for collected packages: rpy2\n",
      "  Building wheel for rpy2 (pyproject.toml) ... \u001b[?25ldone\n",
      "\u001b[?25h  Created wheel for rpy2: filename=rpy2-3.5.11-cp310-cp310-linux_x86_64.whl size=259584 sha256=045bab82934c2f50667c6aa5c60b32b22112b3612166f3cc66b029c33f1f660e\n",
      "  Stored in directory: /home/jovyan/.cache/pip/wheels/c2/0e/f3/26df71872d89df6db8f3c3e934f9554a95d0407278340690ab\n",
      "Successfully built rpy2\n",
      "Installing collected packages: tzdata, pytz-deprecation-shim, tzlocal, rpy2\n",
      "Successfully installed pytz-deprecation-shim-0.1.0.post0 rpy2-3.5.11 tzdata-2023.3 tzlocal-4.3\n"
     ]
    }
   ],
   "source": [
    "! pip install rpy2"
   ]
  },
  {
   "cell_type": "code",
   "execution_count": 14,
   "id": "fecb6f40",
   "metadata": {},
   "outputs": [],
   "source": [
    "import rpy2\n",
    "%load_ext rpy2.ipython"
   ]
  },
  {
   "cell_type": "code",
   "execution_count": 32,
   "id": "4191adbd",
   "metadata": {},
   "outputs": [],
   "source": [
    "%%R\n",
    "install.packages('tidyverse', repos='http://cran.us.r-project.org', quiet=TRUE)\n",
    "install.packages('ggplot2', repos='http://cran.us.r-project.org', quiet=TRUE)\n",
    "install.packages('palmerpenguins', repos='http://cran.us.r-project.org', quiet=TRUE)"
   ]
  },
  {
   "cell_type": "code",
   "execution_count": 18,
   "id": "12f8b453",
   "metadata": {},
   "outputs": [
    {
     "data": {
      "text/html": [
       "<div>\n",
       "<style scoped>\n",
       "    .dataframe tbody tr th:only-of-type {\n",
       "        vertical-align: middle;\n",
       "    }\n",
       "\n",
       "    .dataframe tbody tr th {\n",
       "        vertical-align: top;\n",
       "    }\n",
       "\n",
       "    .dataframe thead th {\n",
       "        text-align: right;\n",
       "    }\n",
       "</style>\n",
       "<table border=\"1\" class=\"dataframe\">\n",
       "  <thead>\n",
       "    <tr style=\"text-align: right;\">\n",
       "      <th></th>\n",
       "      <th>x_var</th>\n",
       "      <th>y_var</th>\n",
       "    </tr>\n",
       "  </thead>\n",
       "  <tbody>\n",
       "    <tr>\n",
       "      <th>0</th>\n",
       "      <td>0</td>\n",
       "      <td>3</td>\n",
       "    </tr>\n",
       "    <tr>\n",
       "      <th>1</th>\n",
       "      <td>1</td>\n",
       "      <td>5</td>\n",
       "    </tr>\n",
       "    <tr>\n",
       "      <th>2</th>\n",
       "      <td>2</td>\n",
       "      <td>7</td>\n",
       "    </tr>\n",
       "    <tr>\n",
       "      <th>3</th>\n",
       "      <td>3</td>\n",
       "      <td>6</td>\n",
       "    </tr>\n",
       "    <tr>\n",
       "      <th>4</th>\n",
       "      <td>4</td>\n",
       "      <td>9</td>\n",
       "    </tr>\n",
       "    <tr>\n",
       "      <th>5</th>\n",
       "      <td>5</td>\n",
       "      <td>8</td>\n",
       "    </tr>\n",
       "    <tr>\n",
       "      <th>6</th>\n",
       "      <td>6</td>\n",
       "      <td>10</td>\n",
       "    </tr>\n",
       "    <tr>\n",
       "      <th>7</th>\n",
       "      <td>7</td>\n",
       "      <td>12</td>\n",
       "    </tr>\n",
       "    <tr>\n",
       "      <th>8</th>\n",
       "      <td>8</td>\n",
       "      <td>13</td>\n",
       "    </tr>\n",
       "    <tr>\n",
       "      <th>9</th>\n",
       "      <td>9</td>\n",
       "      <td>11</td>\n",
       "    </tr>\n",
       "  </tbody>\n",
       "</table>\n",
       "</div>"
      ],
      "text/plain": [
       "   x_var  y_var\n",
       "0      0      3\n",
       "1      1      5\n",
       "2      2      7\n",
       "3      3      6\n",
       "4      4      9\n",
       "5      5      8\n",
       "6      6     10\n",
       "7      7     12\n",
       "8      8     13\n",
       "9      9     11"
      ]
     },
     "execution_count": 18,
     "metadata": {},
     "output_type": "execute_result"
    }
   ],
   "source": [
    "import pandas as pd\n",
    "\n",
    "df = pd.DataFrame({\n",
    "    'x_var': [0, 1, 2, 3, 4, 5, 6, 7, 8, 9],\n",
    "    'y_var': [3, 5, 7, 6, 9, 8, 10, 12, 13, 11]\n",
    "})\n",
    "df"
   ]
  },
  {
   "cell_type": "code",
   "execution_count": 33,
   "id": "153e67bb",
   "metadata": {},
   "outputs": [],
   "source": [
    "%%R\n",
    "library(ggplot2)\n",
    "library(tidyverse)\n",
    "library(palmerpenguins)"
   ]
  },
  {
   "cell_type": "code",
   "execution_count": 34,
   "id": "5e79a3af",
   "metadata": {},
   "outputs": [
    {
     "name": "stdout",
     "output_type": "stream",
     "text": [
      "# A tibble: 3 × 8\n",
      "  species   island bill_length_mm bill_depth_mm flipper_le…¹ body_…²   sex  year\n",
      "  <fct>      <dbl>          <dbl>         <dbl>        <dbl>   <dbl> <dbl> <dbl>\n",
      "1 Adelie        NA           38.8          18.3         190.   3701.    NA 2008.\n",
      "2 Chinstrap     NA           48.8          18.4         196.   3733.    NA 2008.\n",
      "3 Gentoo        NA           47.5          15.0         217.   5076.    NA 2008.\n",
      "# … with abbreviated variable names ¹​flipper_length_mm, ²​body_mass_g\n"
     ]
    }
   ],
   "source": [
    "%%R\n",
    "(penguins %>%\n",
    "  group_by(species) %>%\n",
    "  summarize(across(!where(is.character), mean, na.rm = TRUE)))"
   ]
  },
  {
   "cell_type": "code",
   "execution_count": null,
   "id": "fc39a0a3",
   "metadata": {},
   "outputs": [],
   "source": [
    "gp.aes_string(x='longd',\n",
    "                   y='latd',\n",
    "                   color='population_total',\n",
    "                   size='area_total_km2') +"
   ]
  },
  {
   "cell_type": "code",
   "execution_count": 45,
   "id": "1e76a740",
   "metadata": {},
   "outputs": [
    {
     "name": "stdout",
     "output_type": "stream",
     "text": [
      "`geom_smooth()` using method = 'loess' and formula = 'y ~ x'\n"
     ]
    },
    {
     "data": {
      "image/png": "[encoded data removed]",
      "text/plain": [
       "<IPython.core.display.Image object>"
      ]
     },
     "metadata": {},
     "output_type": "display_data"
    }
   ],
   "source": [
    "%%R\n",
    "ggplot(data = penguins, aes(x = bill_length_mm, y = bill_depth_mm)) +\n",
    "  geom_point(color = 'red', size = 4) + stat_smooth()"
   ]
  },
  {
   "cell_type": "code",
   "execution_count": null,
   "id": "c0a5beff",
   "metadata": {},
   "outputs": [],
   "source": []
  }
 ],
 "metadata": {
  "celltoolbar": "Slideshow",
  "kernelspec": {
   "display_name": "Python 3 (ipykernel)",
   "language": "python",
   "name": "python3"
  },
  "language_info": {
   "codemirror_mode": {
    "name": "ipython",
    "version": 3
   },
   "file_extension": ".py",
   "mimetype": "text/x-python",
   "name": "python",
   "nbconvert_exporter": "python",
   "pygments_lexer": "ipython3",
   "version": "3.9.5"
  }
 },
 "nbformat": 4,
 "nbformat_minor": 5
}
