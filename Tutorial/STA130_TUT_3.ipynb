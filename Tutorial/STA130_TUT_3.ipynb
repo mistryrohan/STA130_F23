{
 "cells": [
  {
   "cell_type": "markdown",
   "id": "e046f0a2",
   "metadata": {
    "slideshow": {
     "slide_type": "slide"
    }
   },
   "source": [
    "# STA130 Tutorial 3 (with \\<Your Favorite TA\\>): <br>Data Visualization\n",
    "### ***Samples*** come from ***Populations*** (often called ***Distributions***) $\\quad$  \n",
    "Today we're interested describing the \"shape\" or \"distribution\" of data\n",
    "\n",
    "|![](im/3/Normal_Distribution.png)|\n",
    "|:-:|\n",
    "|Illustration credit: Allison Horst|"
   ]
  },
  {
   "cell_type": "markdown",
   "id": "6855d54f",
   "metadata": {
    "slideshow": {
     "slide_type": "slide"
    }
   },
   "source": [
    "### Normal Populations are described by their Parameters (10 minutes)\n",
    "\n",
    "$$\\large \\mathcal{N}(\\mu, \\sigma)   \\color{gray}{\\quad {\\normalsize f(x)=\\frac{1}{\\sigma \\sqrt{2 \\pi}} e^{-\\frac{1}{2}\\left(\\frac{x-\\mu}{\\sigma} \\right)^2}} \\leftarrow \\text{math just for fun}} $$\n",
    "- $\\mu$: **mean** (location or center parameter)\n",
    "- $\\sigma$: **standard deviation** (scale or spread parameter)\n",
    "    - often referenced as **variance** $\\sigma^2$\n",
    "    \n",
    "| Understand $\\mu$ and $\\sigma$ work \"Normally\" below | Understand ***Samples*** come from ***Populations*** |\n",
    "|-|-|\n",
    "|<img src='https://www.scribbr.de/wp-content/uploads/2023/01/Standard-normal-distribution.webp' style=\"width:600px\">|`from scipy import stats`<br>`mu,std = 0,1`<br>`a_normal_distribution = \\`<br>`  stats.norm(loc=mu, scale=std)`<br>`n = 100`<br>`a_sample_of_size_n100 = \\`<br>`  a_normal_distribution.rvs(size=n)`<br>`# rvs: random variable samples`|\n"
   ]
  },
  {
   "cell_type": "markdown",
   "id": "de3b0fba",
   "metadata": {
    "slideshow": {
     "slide_type": "slide"
    }
   },
   "source": [
    "# Tutorial Activity: Quiz Part I (3 minutes)\n",
    "\n",
    "*Turn this in for your Tutorial Activity mark*\n",
    "\n",
    "0. Your name\n",
    "1. Could you estimate the variance of a data distribution based on just a histogram of the data; and, if so, what knowledge would you use and how would you estimate the variance? <br>(Hint: **variance** is **standard deviation** squared) <!-- For symmetric, normally shaped data, most of the data distribution would be between 2-3 standard deviations from the mean, so the standard deviation could be roughly estimated that way, and then that number could be squared to estimate the variance -->  \n",
    "\n",
    "> - Answer will be reviewed later after Part II of the Quiz\n",
    "> - Question credit for attempting to provide an answer: answers will not be reviewed in detail during marking\n"
   ]
  },
  {
   "cell_type": "markdown",
   "id": "12b3fbbe",
   "metadata": {
    "slideshow": {
     "slide_type": "slide"
    }
   },
   "source": [
    "### Describing Distributions More Generally (10 minutes)\n",
    "\n",
    "## (First Order) Distributional Characteristics: Location/Center \n",
    "\n",
    "| | | | |\n",
    "|-|-|-|-|\n",
    "| **Mean** | Average or $\\bar x$ |`n=len(my_samp)` | `my_samp.sum()/n `<br>`# my_samp.mean()`|\n",
    "| | \n",
    "| **Median** | 50th percentile | `import numpy as np` | `np.percentile(my_samp, 50)`<br>`# sorted(my_samp)[int(n/2)]`<br>`# np.quantile(my_samp, 0.5)`|\n",
    "| | \n",
    "| **Mode** | Most Common | `from collections import Counter` | `Counter(my_samp).most_common()`\n",
    "\n",
    "> These can be **parameters** when talking about a **population** but above they are **statistics** since they're calculated on a **sample**...\n",
    "\n",
    "> **Statistics** are \"functions of data\" which characterize the \"distribution of the sample\"; and, they're good estimates of **parameters** of the **population** the **sample** was drawn from.\n",
    "\n",
    "\n"
   ]
  },
  {
   "cell_type": "markdown",
   "id": "b42a9737",
   "metadata": {
    "slideshow": {
     "slide_type": "slide"
    }
   },
   "source": [
    "### Describing Distributions More Generally (10 minutes)\n",
    "\n",
    "## (Second Order) Distributional Characteristics: Scale/Spread\n",
    "\n",
    "| | |\n",
    "|-|-|\n",
    "| **Interquartile Range (IQR)** | `np.quantile(my_samp, 0.75) - np.quantile(my_samp, 0.25)` |\n",
    "| | |\n",
    "| **Range** | `my_samp.max() - my_samp.min()` |\n",
    "| | |\n",
    "| **Variance** | `my_samp.var(ddof=1) #'ddof=1' specifies division by \"n-1\"`|\n",
    "| |$\\underset{\\color{gray}{\\text{Estimates $\\sigma^2$}}}{s^2} = \\frac{1}{n-1}\\displaystyle\\sum_{i=1}^{n} (x_i - \\bar x)^2 \\quad\\quad \\underset{\\color{gray}{\\text{Estimates $\\mu$}}}{\\bar x} = \\frac{1}{n} \\sum_{i=1}^n x_i$<br>The variance is the (almost) average squared distance from the mean|\n",
    "| **Standard Deviation** | `my_samp.std(ddof=1) #'ddof=1' specifies division by \"n-1\"`|\n",
    "| | $\\underset{\\color{gray}{\\text{Estimates $\\sigma$}}}{s} = \\sqrt{s^2} \\quad$ is the square root of the **variance** so it's more interpretable<br>$\\color{white}{\\underset{\\text{Estimates $\\sigma$}}{s} = \\sqrt{s^2}} \\quad$ since it's now back in the same units as the original data.<br> Most normally distributed data is within 2-3 **standard deviations** of the **mean**.\n",
    "\n",
    "> These can be **parameters** when talking about a **population** but above they are **statistics** since they're calculated on a **sample**...\n",
    "\n",
    "<!--\n",
    "> IQR is fairly simple to understand (right?); and standard deviation also usually has the easy interpretation (especially for symmetric unimodal data) that most (or all) of the data is within 2 (or 3) standard deviations to the left and to the right of the mean.\n",
    "\n",
    "> **Statistics** are \"functions of data\" which characterize the \"distribution of the sample\"; and, they're good estimates of **parameters** of the **population** the **sample** was drawn from.\n",
    "-->"
   ]
  },
  {
   "cell_type": "markdown",
   "id": "29151e9d",
   "metadata": {
    "slideshow": {
     "slide_type": "slide"
    }
   },
   "source": [
    "#### Describing Distributions More Generally (5 minutes) *[next click is down not right]*\n",
    "\n",
    "### (Higher Order) Distributional Characteristics: *Skewness* and Modality\n",
    "\n",
    "![](im/3/skew.JPG)\n",
    "\n",
    "- What causes the order of the median and the mean to be this way?"
   ]
  },
  {
   "cell_type": "markdown",
   "id": "0aaed8b0",
   "metadata": {
    "slideshow": {
     "slide_type": "subslide"
    }
   },
   "source": [
    "#### Describing Distributions More Generally (continued...) *[next click is down not right]*\n",
    "\n",
    "### (Higher Order) Distributional Characteristics: Skewness and *Modality*\n",
    "\n",
    "<center><img src='im/3/skew_modality2.png' style=\"width:1000px\"></center>\n"
   ]
  },
  {
   "cell_type": "markdown",
   "id": "c66ce5c5",
   "metadata": {
    "slideshow": {
     "slide_type": "subslide"
    }
   },
   "source": [
    "#### Describing Distributions More Generally (continued...)\n",
    "\n",
    "### (Higher Order) Distributional Characteristics: *Skewness and Modality*\n",
    "\n",
    "<center><img src='im/3/skew_modality.png' style=\"width:1000px\"></center>\n",
    "\n",
    "- These terms of course also describe distribuitonal shapes of samples, too!\n"
   ]
  },
  {
   "cell_type": "markdown",
   "id": "952956b8",
   "metadata": {
    "slideshow": {
     "slide_type": "slide"
    }
   },
   "source": [
    "# Practice: group 1 of 8 answers (<4 minutes)\n",
    "\n",
    "- Break into 8 groups: confer, agree, then volunteer or be called upon\n",
    "\n",
    "<sub><sup>The histogram below shows the distribution of aftertaste scores for a sample of 1338 coffee samples.  Suppose you obtained 2 new cups of coffee, rated their aftertaste on a scale from 0 to 10, and re-calculated the mean, median, standard deviation, and variance of all 1340 aftertaste scores (1338 original values + 2 new values). </sup></sub>\n",
    "\n",
    "|![](im/3/Rplot06.png)|\n",
    "|:-:|\n",
    "| |\n",
    "\n",
    "If the two new coffees got scores of 7 and 10, how would the **recaluated mean and median change** compared to their original values (for just the first 1338 samples)?\n",
    "\n",
    "<!-- mean increases but median is the same -->"
   ]
  },
  {
   "cell_type": "markdown",
   "id": "34d149e8",
   "metadata": {
    "slideshow": {
     "slide_type": "slide"
    }
   },
   "source": [
    "# Practice: group 2 of 8 answers (<4 minutes)\n",
    "\n",
    "- Break into 8 groups: confer, agree, then volunteer or be called upon\n",
    "\n",
    "<sub><sup>The histogram below shows the distribution of aftertaste scores for a sample of 1338 coffee samples.  Suppose you obtained 2 new cups of coffee, rated their aftertaste on a scale from 0 to 10, and re-calculated the mean, median, standard deviation, and variance of all 1340 aftertaste scores (1338 original values + 2 new values). </sup></sub>\n",
    "\n",
    "|![](im/3/Rplot06.png)|\n",
    "|:-:|\n",
    "| |\n",
    "\n",
    "If the two new coffees got both got scores of 10, how would the **recaluated standard deviation change** compared to its original values (for just the first 1338 samples)?\n",
    "<!-- standard deviation will increase slightly -->"
   ]
  },
  {
   "cell_type": "markdown",
   "id": "f79a7178",
   "metadata": {
    "slideshow": {
     "slide_type": "slide"
    }
   },
   "source": [
    "# Practice: group 3 of 8 answers (<4 minutes)\n",
    "\n",
    "- Break into 8 groups: confer, agree, then volunteer or be called upon\n",
    "\n",
    "Which ONE of the statements below is most accurate for these variables?\n",
    "    \n",
    "![](im/3/Quiz2-Question2.png)\n",
    "\n",
    "\n",
    "A. Variables have similar means and similar variances\n",
    "\n",
    "B. Variables have similar means but quite different variances <!-- B -->\n",
    "\n",
    "C. Variables have similar variances but quite different means\n",
    "\n",
    "D. Variables have quite different means and quite different variances\n",
    "\n",
    "*Hints: which of the variances is the smallest? **Which of the variances is the largest?***\n"
   ]
  },
  {
   "cell_type": "markdown",
   "id": "70c2fc15",
   "metadata": {
    "slideshow": {
     "slide_type": "slide"
    }
   },
   "source": [
    "# Practice: group 4 of 8 answers (<4 minutes)\n",
    "\n",
    "- Break into 8 groups: confer, agree, then volunteer or be called upon\n",
    "\n",
    "Which of the descriptors below are appropriate in describing the variable **VarA**? \n",
    "\n",
    "| | | | |\n",
    "|-|-|-|-|\n",
    "|left skewed|right skewed|symmetric|\n",
    "|unimodal|bimodal|multimodal|\n",
    "|mean>median|mean<median|mean$\\approx$median| (Roughly guess mean/median?)|\n",
    "\n",
    "|![](im/3/Quiz2-Question3.png)|\n",
    "|:-:|\n",
    "| Follow up question(s): what is the IQR and range of this distribution, approximately? |\n",
    "\n",
    "<!-- left skewed unimodal mean<median -->\n",
    "<!-- range is easy to read from this, but IQR we would have to approximate -->"
   ]
  },
  {
   "cell_type": "markdown",
   "id": "fc84fd55",
   "metadata": {
    "slideshow": {
     "slide_type": "slide"
    }
   },
   "source": [
    "# Practice: group 5 of 8 answers (<4 minutes)\n",
    "\n",
    "- Break into 8 groups: confer, agree, then volunteer or be called upon\n",
    "\n",
    "Which of the descriptors below are appropriate in describing the variable **b**? \n",
    "\n",
    "| | | | |\n",
    "|-|-|-|-|\n",
    "|left skewed|right skewed|symmetric|\n",
    "|unimodal|bimodal|multimodal|\n",
    "|mean>median|mean<median|mean$\\approx$median|(Roughly guess mean/median?)|\n",
    "\n",
    "|![](im/3/Quiz2-Question4.png)|\n",
    "|:-:|\n",
    "| Follow up question(s): what is the IQR and range of this distribution, approximately? |\n",
    "<!-- left skewed mean>median and MAYBE unimodal? -->\n",
    "<!-- IQR and range easy to read from this -->"
   ]
  },
  {
   "cell_type": "markdown",
   "id": "49362ec4",
   "metadata": {
    "slideshow": {
     "slide_type": "slide"
    }
   },
   "source": [
    "# Practice: group 6 of 8 answers (<4 minutes)\n",
    "\n",
    "- Break into 8 groups: confer, agree, then volunteer or be called upon\n",
    "\n",
    "Which of the descriptors below are appropriate in describing the variable **Aftertaste scores**? \n",
    "\n",
    "| | | | |\n",
    "|-|-|-|-|\n",
    "|left skewed|right skewed|symmetric|\n",
    "|unimodal|bimodal|multimodal|\n",
    "|mean>median|mean<median|mean$\\approx$median| (Roughly guess mean/median?|\n",
    "\n",
    "|![](im/3/Rplot06.png)|\n",
    "|:-:|\n",
    "| Follow up question(s): what is the IQR and range of this distribution, approximately? |\n",
    "<!-- symmetric unimodal mean about equals median -->\n",
    "<!-- range is easy to read from this, but IQR we would have to approximate -->"
   ]
  },
  {
   "cell_type": "markdown",
   "id": "385df0e7",
   "metadata": {
    "slideshow": {
     "slide_type": "slide"
    }
   },
   "source": [
    "# Practice: group 7 of 8 answers (<4 minutes)\n",
    "\n",
    "- Break into 8 groups: confer, agree, then volunteer or be called upon\n",
    "\n",
    "The three aspects that should be reported when describing the distribution of a numerical variable are listed below along with an example. \n",
    "\n",
    "*Name another example of each of these.*\n",
    "\n",
    "| | |\n",
    "|-|:-|\n",
    "| Location/Center|**Median**, the 50th percentile (or halfway point) of the distribution |\n",
    "| Scale/Spread   |**Standard deviation**, a measure of spread of a distribution | \n",
    "| Shape          |**Skewness**, an imbalance away from symmetry in distribution tails |\n"
   ]
  },
  {
   "cell_type": "markdown",
   "id": "355988f4",
   "metadata": {
    "slideshow": {
     "slide_type": "slide"
    }
   },
   "source": [
    "# Practice: group 8 of 8 answers (<4 minutes)\n",
    "\n",
    "- Break into 8 groups: confer, agree, then volunteer or be called upon\n",
    "\n",
    "\n",
    "What two types of data can be visualized with plotly `px.histogram`? <!-- continuous numerical data; and, discrete numerical data, in which case the bins get little spaces between them. This latter plot is often call a \"bar\" plot: these are demonstrated on the next slide --> \n",
    "And what parameter controls the number of bars used on the plot on the right? <!-- nbins --> \n",
    "\n",
    "\n",
    "|<img src='im/3/graphs_from_HW3.JPG' style=\"height:250px\">|\n",
    "|:-:|\n",
    "| |\n",
    "\n",
    "> Hints: what's the difference between left and right figures?\n",
    "> One is called a **barplot** while the other is a called a **histogram**... \n",
    ">\n",
    "> ...though both are still created with `px.histogram`\n",
    "\n"
   ]
  },
  {
   "cell_type": "markdown",
   "id": "f6581df8",
   "metadata": {
    "slideshow": {
     "slide_type": "slide"
    }
   },
   "source": [
    "# Tutorial Activity: Quiz (Part II: 7 minutes)\n",
    "\n",
    "2. Which of the characteristics below are immediately clear from a boxplot compared to a histogram, and vice-versa? Which are pretty easy to assess from both boxplots and histograms?\n",
    " \n",
    "  **Mean, Median, Mode, IQR, Range, Modality, Skewness, <u>OUTLIERS</u>**\n",
    "\n",
    "<!-- median and IQR is part of boxplots; modality would not show on a boxplot but could be seen in a histogram with appropriately/reasonably sized bins; mode could also be identified with a histogram for discretely-valued data when bins each capture the presense of a single observation value; outliers, range, skewness should all be fairly discernable from both boxplots and histograms, as may be the mean depending on the skewness of the data distribution with mean close to median for nearly symmetric distributions -->\n",
    "\n",
    "3. Describe what the code below does <!-- gets the height variable, removes missing values, transforms them to a list, and then makes a kernel density estimation of the 'height' variable overlayed on a histogram of the data. An example of this kind of KDE figure is shown later in the slides <img src='images/kde_HW3.JPG' style=\"height:250px\"> -->\n",
    "\n",
    "```python \n",
    "fig = ff.create_distplot(\n",
    "        [amazonbooks.Height.dropna().values.tolist()], \n",
    "        ['Height']); fig.show()\n",
    "```\n",
    "\n",
    "4. For the continuous and discrete variables `variable` and `category` in the `pandas` data frame `df`, write `plotly` code to compare the distribution of `variable` across the levels of `category`. \n",
    "<!-- fig = px.box(df, y=\"category\", x=\"variable\"); fig.show() -->"
   ]
  },
  {
   "cell_type": "markdown",
   "id": "89eb3a61",
   "metadata": {
    "slideshow": {
     "slide_type": "slide"
    }
   },
   "source": [
    "# Tutorial Activity: Quiz Review (15 minutes)\n",
    "\n",
    "> - Refer to questions on slide 3 and last slide as needed\n",
    "> - Question credit for attempting to provide an answer: answers will not be reviewed in detail during marking\n",
    "\n",
    "1. <sub><sup>For symmetric, normally shaped data, most of the data distribution would be between 2-3 standard deviations from the mean, so the standard deviation could be roughly estimated that way, and then that number could be squared to estimate the variance</sup></sub>\n",
    "\n",
    "2. <sub><sup>Boxplots show median and IQR; modality (and mode for categorical data) are easily seen from histograms; Range, Skewness, and **<u>OUTLIERS</u>** are easily enough seen in both;  mean is probably fairly easy to guess for both; **<u>Briefly discuss OUTLIERS generally and as indicated in boxplots as this may be a new term for students</u>**</sup></sub>\n",
    "\n",
    "3. <sub><sup>Gets the height variable, removes missing values, transforms them to a list, and then plots a kernel density estimate of the 'height' variable overlayed on a histogram of the data (like the example in later slides)</sup></sub>\n",
    "\n",
    "4. <sub><sup>`fig = px.box(df, y=\"category\", x=\"variable\"); fig.show()`</sup></sub>"
   ]
  },
  {
   "cell_type": "markdown",
   "id": "7c043b56",
   "metadata": {
    "slideshow": {
     "slide_type": "skip"
    }
   },
   "source": [
    "# reworked questions structure/use and and these were some left over questions that ended up left on the cutting room floor\n",
    "\n",
    "\n",
    "2. If the distribution is left-skewed, how does the median compare to the mean? [because I think this was well-addressed earlier]  <!-- the median is greater than the mean -->\n",
    "\n",
    "3. What’s the difference between mean and median (calculations) that causes the difference above? [because I think this was well-addressed earlier]  <!-- making some of the small numbers in an average smaller would make the average smaller, but if they're less than the median this would not make the median smaller... this is what left-skewed data does relative to a symmetric distribution where the mean/median are the same --> \n",
    "\n",
    "3. What does thin-tailed vs. heavy-tailed describe about a data distribution? [because I think it's more important to focus on getting a sense of the concept of outliers as opposed to the statistical notion of \"heavy tailed-ness\" which seems too technically advanced to be necessary and I think is sufficiently addressed thorugh the notion of outliers which could just be given superlatives like \"crazy\" or \"extreme\" to make the point that \"heavy tailed-ness\" is really getting at] <!-- the proportion of oberservations that fall within the \"tails\" of the distribution relative to the \"central mass\" of the distribution -->\n",
    "\n"
   ]
  },
  {
   "cell_type": "markdown",
   "id": "2d33698d",
   "metadata": {
    "slideshow": {
     "slide_type": "skip"
    }
   },
   "source": [
    "# Full Class Discussion (15 minutes) *[click down...]*\n",
    "\n",
    "You've learned about the different types of variables and techniques for visualizing and describing the distribution of variables. The `coffee_ratings.csv` dataset contains information about various samples of coffee and their ratings. On the next slide, there are four plots that visualize variables in this dataset.\n",
    "\n",
    "1. What types of variables are displayed in each plot? \n",
    "    - Briefly justify your choice of Continuous or Discrete\n",
    "    <!-- country is obviously categorical, so, discrete. For the other two variables both answers could be argued; but, probably `total_cup_points` is an integer, so technically discrete; and, `flavor` appears discrete with steps every 1/12, but there are some data points that don't follow this, so, it seems like it could theoretically be any numerical/decimal value, so, perhaps this is more naturally viewed as being continuous -->\n",
    "2. The upper two graphs visualize the same data. <br>Which one you like better and why?\n",
    "    - Which allows you to make comparisons across the groups easier? <!-- boxplots -->\n",
    "    - Which better conveys the relative amount of data in each group? <!-- histograms -->\n",
    "    \n",
    "    \n",
    "3. How could you best convey the relative amount of data in each group? <!-- perhaps sort the bottom right bar plot least to greatest? --> \n",
    "4. What could coloring the points in the bottom left figure by country show?  <!-- if there are different \"sub-associations\" between flavor and points within countries --> \n",
    "\n",
    "\n",
    "<!-- 2. What type of plot is used in each of the four figures?\n",
    "3. Which plots are appropriate for which types of variables? \n",
    "- What features of the variable can you see from the plot? -->\n"
   ]
  },
  {
   "cell_type": "markdown",
   "id": "377cb34b",
   "metadata": {
    "slideshow": {
     "slide_type": "skip"
    }
   },
   "source": [
    "# Full Class Discussion (continued...) *[click down...]*\n",
    "\n",
    "![](im/3/coffee_plots.JPG)"
   ]
  },
  {
   "cell_type": "markdown",
   "id": "dc8d4ffe",
   "metadata": {
    "slideshow": {
     "slide_type": "skip"
    }
   },
   "source": [
    "# Full Class Discussion (continued...)\n",
    "\n",
    "1. Continuous or Discrete? \n",
    "2. Boxplots allow for easy comparisions; but, don't show data sizes <br>(Address with text information? barplots? Re: 3.)... also, what about this?\n",
    "\n",
    "![](im/3/better.JPG)\n",
    "\n",
    "4. Coloring the scatterplot points might show different \"sub-associations\" of flavor and points in different countries, or general differences in scores"
   ]
  },
  {
   "cell_type": "markdown",
   "id": "9ee7fd89",
   "metadata": {
    "slideshow": {
     "slide_type": "skip"
    }
   },
   "source": [
    "## Group Activity: Review \n",
    "\n",
    "`Q17` from this week's homework was: **Choose which of histograms, boxplots, and KDEs are your favorite way to represent distributions of data and explain why**\n",
    "\n",
    "Check out these other cool ways to visualize data distributions: https://plotly.com/python/violin/\n",
    "\n",
    "![](im/3/kde_HW3.JPG)"
   ]
  },
  {
   "cell_type": "markdown",
   "id": "48f3bcee",
   "metadata": {
    "slideshow": {
     "slide_type": "skip"
    }
   },
   "source": [
    "# Hedging (10 mins)\n",
    "Hedging is helpful whenever you can’t say something is 100% one way or another, as is often the case.\n",
    "In statistics, hedging should always be used with respect to the limitations of data and the strength and\n",
    "generalizability of the conclusions.\n",
    "\n",
    "Play this video for students: [https://web.microsoftstream.com/video/22f20d20-f096-4934-bfb4-86c0caf9da85](https://web.microsoftstream.com/video/22f20d20-f096-4934-bfb4-86c0caf9da85)\n",
    "\n",
    "> We hope a **sample** is representative of a **population**; but, small sample sizes mean generalizations -- such as the accuracy of **sample statistics** estimating **population parameters** -- should be viewed cautiously and not be used overconfidently"
   ]
  },
  {
   "cell_type": "markdown",
   "id": "a3d8c362",
   "metadata": {
    "slideshow": {
     "slide_type": "slide"
    }
   },
   "source": [
    "## Tutorial Assignment *[next click is down not right]*\n",
    "\n",
    "- Submit your work for the assignment through Quercus\n",
    "- Include the `.ipynb` file upon which your written submission is based\n",
    "\n",
    "#### Marking is based on addressing the points on the next slide (relative to the prompt on the next-next slide) and the subsequent determination of the TA that they have come to a good sense of the figure(s) you're describing without referring to your submitted `.ipynb` file\n",
    "\n",
    "- Don't spend more than 60 minutes on this assignment (unless really needed...)    \n",
    "\n",
    "    - Aim for something close to 200 to 500 words\n",
    "    - Grammar is *not* the main focus of the assessment, but it is important that you communicate in a clear and professional manner; so, \n",
    "        - use full sentences (without slang or emojis) \n",
    "    \n",
    "\n",
    "\n"
   ]
  },
  {
   "cell_type": "markdown",
   "id": "51153b4f",
   "metadata": {
    "slideshow": {
     "slide_type": "subslide"
    }
   },
   "source": [
    "## Tutorial Assignment *[next click is down not right]*\n",
    "\n",
    "- Describe the data source, acknowledging any notable limitations of the data<br>(such as sample size, missing data, etc.)\n",
    "- State the type of graph you're making (and identify the x- and y-axes) \n",
    "- Describe the key features and characteristics of the data distribution\n",
    "    - Where is the data located/centered (approximate values if possible)?\n",
    "        - Note key relative frequencies in categorical data contexts\n",
    "    \n",
    "    - What is the scale/spread of the data (approximate values if possible)? <!-- (Characterized relative to location/center of the data if helpful) -->\n",
    "    - What is the shape of the data? <br>Symmetric? Left or right skewed? Multiple modes (and how many)?\n",
    "    - Note the presense or absense of any potential outliers/extreme data: <br> **Provide description of the nature of outliers in the tails of the distribution if doing so is sensible and helpful**"
   ]
  },
  {
   "cell_type": "markdown",
   "id": "dd2860c1",
   "metadata": {
    "slideshow": {
     "slide_type": "subslide"
    }
   },
   "source": [
    "## Tutorial Assignment (complete at home if needed)\n",
    "\n",
    "Suppose you're on the phone with your friend, and for whatever reason you're describing some of the data and data visualization techniques you've been working with for STA130.  \n",
    "\n",
    "Use `plotly` to construct 1-2 plots from the `coffee_ratings.csv` dataset and prepare a small paragraph with your description of the graph(s) for your friend keeping in mind that they cannot see the graph(s). Suppose your friend has not taken STA130, so they will not be as familiar with the statistical vocabulary as you are; so, explain any terms you use in plain language as you describe the data and graph(s) to your friend.\n",
    "\n",
    "- Do not include any code in your written submission; but, separately include your `.ipynb` file along with your written submission\n",
    "    - Annotate your notebook with comments where it's helpful for understanding what your code is doing"
   ]
  }
 ],
 "metadata": {
  "celltoolbar": "Slideshow",
  "kernelspec": {
   "display_name": "Python 3 (ipykernel)",
   "language": "python",
   "name": "python3"
  },
  "language_info": {
   "codemirror_mode": {
    "name": "ipython",
    "version": 3
   },
   "file_extension": ".py",
   "mimetype": "text/x-python",
   "name": "python",
   "nbconvert_exporter": "python",
   "pygments_lexer": "ipython3",
   "version": "3.10.8"
  }
 },
 "nbformat": 4,
 "nbformat_minor": 5
}
